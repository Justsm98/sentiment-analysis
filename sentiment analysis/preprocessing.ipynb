{
  "nbformat": 4,
  "nbformat_minor": 0,
  "metadata": {
    "colab": {
      "provenance": []
    },
    "kernelspec": {
      "name": "python3",
      "display_name": "Python 3"
    },
    "language_info": {
      "name": "python"
    }
  },
  "cells": [
    {
      "cell_type": "markdown",
      "source": [
        "## EDA + translate\n"
      ],
      "metadata": {
        "id": "M2m88oJbwxbf"
      }
    },
    {
      "cell_type": "code",
      "execution_count": null,
      "metadata": {
        "id": "0ILgNJU85Vtn"
      },
      "outputs": [],
      "source": [
        "import numpy as np\n",
        "import pandas as pd\n",
        "from sklearn.pipeline import Pipeline\n",
        "from sklearn.feature_extraction.text import TfidfVectorizer\n",
        "from sklearn.metrics import confusion_matrix, classification_report, accuracy_score\n",
        "from sklearn.linear_model import LogisticRegression"
      ]
    },
    {
      "cell_type": "code",
      "execution_count": null,
      "metadata": {
        "colab": {
          "base_uri": "https://localhost:8080/"
        },
        "id": "2teMTW49EsrD",
        "outputId": "68c79618-f2c5-4e47-dc0a-25a85bbc1118"
      },
      "outputs": [
        {
          "output_type": "stream",
          "name": "stdout",
          "text": [
            "Drive already mounted at /content/drive; to attempt to forcibly remount, call drive.mount(\"/content/drive\", force_remount=True).\n"
          ]
        }
      ],
      "source": [
        "# if you use Google Colab, un-comment this cell, modify `path_to_data` if needed, and run to mount data to `data`\n",
        "from google.colab import drive\n",
        "drive.mount('/content/drive')\n",
        "path_to_data = '/content/drive/MyDrive/COMP4332/COMP4332/Project1/data'\n",
        "#!rm -f data\n",
        "#!ln -s '/content/drive/COMP4332/COMP4332/Project1/data' data\n"
      ]
    },
    {
      "cell_type": "markdown",
      "metadata": {
        "id": "M1KvPSs65Vto"
      },
      "source": [
        "### (1) Loading data\n",
        "The following code shows how to load the datasets for this project.  \n",
        "Among which, we do not release the labels (the \"stars\" column) for the test set. You may evaluate your trained model on the validation set instead.\n",
        "\n",
        "However, your submitted predictions (``pred.csv``) should be generated on the test set."
      ]
    },
    {
      "cell_type": "code",
      "execution_count": null,
      "metadata": {
        "id": "wvmtdMvT5Vto"
      },
      "outputs": [],
      "source": [
        "def load_data(split_name='train', columns=['text', 'stars'], folder='data'):\n",
        "    '''\n",
        "        \"split_name\" may be set as 'train', 'valid' or 'test' to load the corresponding dataset.\n",
        "        \n",
        "        You may also specify the column names to load any columns in the .csv data file.\n",
        "        Among many, \"text\" can be used as model input, and \"stars\" column is the labels (sentiment). \n",
        "        If you like, you are free to use columns other than \"text\" for prediction.\n",
        "    '''\n",
        "    try:\n",
        "        print(f\"select [{', '.join(columns)}] columns from the {split_name} split\")\n",
        "        df = pd.read_csv(f'{folder}/{split_name}.csv')\n",
        "        df = df.loc[:,columns]\n",
        "        print(\"Success\")\n",
        "        return df\n",
        "    except:\n",
        "        print(f\"Failed loading specified columns... Returning all columns from the {split_name} split\")\n",
        "        df = pd.read_csv(f'{folder}/{split_name}.csv')\n",
        "        return df"
      ]
    },
    {
      "cell_type": "code",
      "execution_count": null,
      "metadata": {
        "colab": {
          "base_uri": "https://localhost:8080/"
        },
        "id": "uemwLtaB5Vtp",
        "outputId": "0d4e872b-698a-488a-eb32-6020a139f968"
      },
      "outputs": [
        {
          "output_type": "stream",
          "name": "stdout",
          "text": [
            "select [text, cool, funny, useful, stars] columns from the train split\n",
            "Success\n",
            "select [text, cool, funny, useful, stars] columns from the valid split\n",
            "Success\n",
            "select [text, cool, funny, useful, stars] columns from the test split\n",
            "Failed loading specified columns... Returning all columns from the test split\n"
          ]
        }
      ],
      "source": [
        "train_df = load_data('train', columns=['text', 'cool','funny','useful','stars'],folder = path_to_data)\n",
        "valid_df = load_data('valid', columns=['text', 'cool','funny','useful','stars'],folder = path_to_data)\n",
        "# the test set labels (the 'stars' column) are not available! So the following code will instead return all columns\n",
        "test_df = load_data('test', columns=['text', 'cool','funny','useful','stars'],folder = path_to_data)"
      ]
    },
    {
      "cell_type": "code",
      "source": [
        "import matplotlib.pyplot as plt\n",
        "plt.hist(train_df['stars'], bins=5)"
      ],
      "metadata": {
        "colab": {
          "base_uri": "https://localhost:8080/",
          "height": 484
        },
        "id": "8ceuDdyIxNdR",
        "outputId": "bb2970ec-5f4a-4f0d-d1e5-239c1a88e4ae"
      },
      "execution_count": null,
      "outputs": [
        {
          "output_type": "execute_result",
          "data": {
            "text/plain": [
              "(array([2659., 1426., 1969., 4008., 7938.]),\n",
              " array([1. , 1.8, 2.6, 3.4, 4.2, 5. ]),\n",
              " <BarContainer object of 5 artists>)"
            ]
          },
          "metadata": {},
          "execution_count": 52
        },
        {
          "output_type": "display_data",
          "data": {
            "text/plain": [
              "<Figure size 640x480 with 1 Axes>"
            ],
            "image/png": "[encoded data removed]"
          },
          "metadata": {}
        }
      ]
    },
    {
      "cell_type": "markdown",
      "source": [
        "## create augmented dataset for 'stars = 2'"
      ],
      "metadata": {
        "id": "Yc9R-B92zgil"
      }
    },
    {
      "cell_type": "markdown",
      "source": [
        "### extract and creat input file"
      ],
      "metadata": {
        "id": "vTYPMDBozqd4"
      }
    },
    {
      "cell_type": "code",
      "source": [
        "stars_2 = train_df[train_df['stars']==2]\n",
        "stars_2 = stars_2[['stars','text']]\n",
        "\n",
        "stars_2 = stars_2.reset_index(drop=True)\n",
        "stars_2.head()"
      ],
      "metadata": {
        "colab": {
          "base_uri": "https://localhost:8080/",
          "height": 206
        },
        "id": "GWBRJYeazfmS",
        "outputId": "4fadc213-4c70-4b10-d6c2-d0eb9e80e8d2"
      },
      "execution_count": null,
      "outputs": [
        {
          "output_type": "execute_result",
          "data": {
            "text/plain": [
              "   stars                                               text\n",
              "0      2  Location is nice, but it is the typical blah H...\n",
              "1      2  I really wanted to like this place since my wi...\n",
              "2      2  In a word, disappointing.  I've never dined at...\n",
              "3      2  Food was very bland. Ordered the breakfast bur...\n",
              "4      2  I ordered a lychee boba, and was so excited.. ..."
            ],
            "text/html": [
              "\n",
              "  <div id=\"df-23158284-85e3-43ce-b4ac-6c874972c372\">\n",
              "    <div class=\"colab-df-container\">\n",
              "      <div>\n",
              "<style scoped>\n",
              "    .dataframe tbody tr th:only-of-type {\n",
              "        vertical-align: middle;\n",
              "    }\n",
              "\n",
              "    .dataframe tbody tr th {\n",
              "        vertical-align: top;\n",
              "    }\n",
              "\n",
              "    .dataframe thead th {\n",
              "        text-align: right;\n",
              "    }\n",
              "</style>\n",
              "<table border=\"1\" class=\"dataframe\">\n",
              "  <thead>\n",
              "    <tr style=\"text-align: right;\">\n",
              "      <th></th>\n",
              "      <th>stars</th>\n",
              "      <th>text</th>\n",
              "    </tr>\n",
              "  </thead>\n",
              "  <tbody>\n",
              "    <tr>\n",
              "      <th>0</th>\n",
              "      <td>2</td>\n",
              "      <td>Location is nice, but it is the typical blah H...</td>\n",
              "    </tr>\n",
              "    <tr>\n",
              "      <th>1</th>\n",
              "      <td>2</td>\n",
              "      <td>I really wanted to like this place since my wi...</td>\n",
              "    </tr>\n",
              "    <tr>\n",
              "      <th>2</th>\n",
              "      <td>2</td>\n",
              "      <td>In a word, disappointing.  I've never dined at...</td>\n",
              "    </tr>\n",
              "    <tr>\n",
              "      <th>3</th>\n",
              "      <td>2</td>\n",
              "      <td>Food was very bland. Ordered the breakfast bur...</td>\n",
              "    </tr>\n",
              "    <tr>\n",
              "      <th>4</th>\n",
              "      <td>2</td>\n",
              "      <td>I ordered a lychee boba, and was so excited.. ...</td>\n",
              "    </tr>\n",
              "  </tbody>\n",
              "</table>\n",
              "</div>\n",
              "      <button class=\"colab-df-convert\" onclick=\"convertToInteractive('df-23158284-85e3-43ce-b4ac-6c874972c372')\"\n",
              "              title=\"Convert this dataframe to an interactive table.\"\n",
              "              style=\"display:none;\">\n",
              "        \n",
              "  <svg xmlns=\"http://www.w3.org/2000/svg\" height=\"24px\"viewBox=\"0 0 24 24\"\n",
              "       width=\"24px\">\n",
              "    <path d=\"M0 0h24v24H0V0z\" fill=\"none\"/>\n",
              "    <path d=\"M18.56 5.44l.94 2.06.94-2.06 2.06-.94-2.06-.94-.94-2.06-.94 2.06-2.06.94zm-11 1L8.5 8.5l.94-2.06 2.06-.94-2.06-.94L8.5 2.5l-.94 2.06-2.06.94zm10 10l.94 2.06.94-2.06 2.06-.94-2.06-.94-.94-2.06-.94 2.06-2.06.94z\"/><path d=\"M17.41 7.96l-1.37-1.37c-.4-.4-.92-.59-1.43-.59-.52 0-1.04.2-1.43.59L10.3 9.45l-7.72 7.72c-.78.78-.78 2.05 0 2.83L4 21.41c.39.39.9.59 1.41.59.51 0 1.02-.2 1.41-.59l7.78-7.78 2.81-2.81c.8-.78.8-2.07 0-2.86zM5.41 20L4 18.59l7.72-7.72 1.47 1.35L5.41 20z\"/>\n",
              "  </svg>\n",
              "      </button>\n",
              "      \n",
              "  <style>\n",
              "    .colab-df-container {\n",
              "      display:flex;\n",
              "      flex-wrap:wrap;\n",
              "      gap: 12px;\n",
              "    }\n",
              "\n",
              "    .colab-df-convert {\n",
              "      background-color: #E8F0FE;\n",
              "      border: none;\n",
              "      border-radius: 50%;\n",
              "      cursor: pointer;\n",
              "      display: none;\n",
              "      fill: #1967D2;\n",
              "      height: 32px;\n",
              "      padding: 0 0 0 0;\n",
              "      width: 32px;\n",
              "    }\n",
              "\n",
              "    .colab-df-convert:hover {\n",
              "      background-color: #E2EBFA;\n",
              "      box-shadow: 0px 1px 2px rgba(60, 64, 67, 0.3), 0px 1px 3px 1px rgba(60, 64, 67, 0.15);\n",
              "      fill: #174EA6;\n",
              "    }\n",
              "\n",
              "    [theme=dark] .colab-df-convert {\n",
              "      background-color: #3B4455;\n",
              "      fill: #D2E3FC;\n",
              "    }\n",
              "\n",
              "    [theme=dark] .colab-df-convert:hover {\n",
              "      background-color: #434B5C;\n",
              "      box-shadow: 0px 1px 3px 1px rgba(0, 0, 0, 0.15);\n",
              "      filter: drop-shadow(0px 1px 2px rgba(0, 0, 0, 0.3));\n",
              "      fill: #FFFFFF;\n",
              "    }\n",
              "  </style>\n",
              "\n",
              "      <script>\n",
              "        const buttonEl =\n",
              "          document.querySelector('#df-23158284-85e3-43ce-b4ac-6c874972c372 button.colab-df-convert');\n",
              "        buttonEl.style.display =\n",
              "          google.colab.kernel.accessAllowed ? 'block' : 'none';\n",
              "\n",
              "        async function convertToInteractive(key) {\n",
              "          const element = document.querySelector('#df-23158284-85e3-43ce-b4ac-6c874972c372');\n",
              "          const dataTable =\n",
              "            await google.colab.kernel.invokeFunction('convertToInteractive',\n",
              "                                                     [key], {});\n",
              "          if (!dataTable) return;\n",
              "\n",
              "          const docLinkHtml = 'Like what you see? Visit the ' +\n",
              "            '<a target=\"_blank\" href=https://colab.research.google.com/notebooks/data_table.ipynb>data table notebook</a>'\n",
              "            + ' to learn more about interactive tables.';\n",
              "          element.innerHTML = '';\n",
              "          dataTable['output_type'] = 'display_data';\n",
              "          await google.colab.output.renderOutput(dataTable, element);\n",
              "          const docLink = document.createElement('div');\n",
              "          docLink.innerHTML = docLinkHtml;\n",
              "          element.appendChild(docLink);\n",
              "        }\n",
              "      </script>\n",
              "    </div>\n",
              "  </div>\n",
              "  "
            ]
          },
          "metadata": {},
          "execution_count": 53
        }
      ]
    },
    {
      "cell_type": "code",
      "source": [
        "# remove '\\n'\n",
        "for i in range(stars_2.shape[0]):\n",
        "  stars_2.iloc[i,1] = stars_2.iloc[i,1].replace('\\n','').replace('\\r','')"
      ],
      "metadata": {
        "id": "MIuWSiv57sSc"
      },
      "execution_count": null,
      "outputs": []
    },
    {
      "cell_type": "code",
      "source": [
        "stars_2.to_csv('/content/drive/MyDrive/COMP4332/COMP4332/Project1/data/augmented_stars_2.txt',\n",
        "               encoding='utf-8',header=False,\n",
        "               sep='\\t',index=False,mode='w')"
      ],
      "metadata": {
        "id": "FtMxUFjiz_tg"
      },
      "execution_count": null,
      "outputs": []
    },
    {
      "cell_type": "markdown",
      "source": [
        "### call EDA"
      ],
      "metadata": {
        "id": "Bl8nS2AG-S4s"
      }
    },
    {
      "cell_type": "code",
      "source": [
        "# follow the instruction from https://github.com/jasonwei20/eda_nlp\n",
        "# attention: \n",
        "# for input txt file: remove '/n' so that text(comments) would not be affacted by '\\n' in .readlines()\n",
        "# for open() in augment.py, add 'errors='ignore' to avoid illegal characters\n",
        "# lines = open(train_orig, 'r',errors='ignore').readlines() # ignore error!!!!\n",
        "'''@inproceedings{wei-zou-2019-eda,\n",
        "    title = \"{EDA}: Easy Data Augmentation Techniques for Boosting Performance on Text Classification Tasks\",\n",
        "    author = \"Wei, Jason  and\n",
        "      Zou, Kai\",\n",
        "    booktitle = \"Proceedings of the 2019 Conference on Empirical Methods in Natural Language Processing and the 9th International Joint Conference on Natural Language Processing (EMNLP-IJCNLP)\",\n",
        "    month = nov,\n",
        "    year = \"2019\",\n",
        "    address = \"Hong Kong, China\",\n",
        "    publisher = \"Association for Computational Linguistics\",\n",
        "    url = \"https://www.aclweb.org/anthology/D19-1670\",\n",
        "    pages = \"6383--6389\",\n",
        "}'''\n",
        "\n"
      ],
      "metadata": {
        "colab": {
          "base_uri": "https://localhost:8080/"
        },
        "id": "Ru2oObhvysvi",
        "outputId": "9f5f4d70-e283-4238-a966-e64e03cfae14"
      },
      "execution_count": null,
      "outputs": [
        {
          "output_type": "stream",
          "name": "stderr",
          "text": [
            "[nltk_data] Downloading package wordnet to /root/nltk_data...\n",
            "[nltk_data]   Package wordnet is already up-to-date!\n"
          ]
        },
        {
          "output_type": "execute_result",
          "data": {
            "text/plain": [
              "True"
            ]
          },
          "metadata": {},
          "execution_count": 57
        }
      ]
    },
    {
      "cell_type": "markdown",
      "source": [
        "#### parameters\n",
        "The default output filename will append eda_ to the front of the input filename, but you can specify your own with --output. You can also specify the number of generated augmented sentences per original sentence using --num_aug (default is 9). Furthermore, you can specify different alpha parameters, which approximately means the percent of words in the sentence that will be changed according to that rule (default is 0.1 or 10%). So for example, if your input file is sst2_train.txt and you want to output to sst2_augmented.txt with 16 augmented sentences per original sentence and replace 5% of words by synonyms (alpha_sr=0.05), delete 10% of words (alpha_rd=0.1, or leave as the default) and do not apply random insertion (alpha_ri=0.0) and random swap (alpha_rs=0.0), you would do:\n",
        "Note that at least one augmentation operation is applied per augmented sentence regardless of alpha (if greater than zero). So if you do alpha_sr=0.001 and your sentence only has four words, one augmentation operation will still be performed. Of course, if one particular alpha is zero, nothing will be done."
      ],
      "metadata": {
        "id": "BTM3uvjC6IOG"
      }
    },
    {
      "cell_type": "code",
      "source": [
        "# window:  \n",
        "# import nltk; nltk.download('wordnet')\n",
        "# python \"c:\\Users\\...\\eda\\eda_nlp-master\\eda_nlp-master\\code\\augment.py\" --input=\"C:\\Users\\...\\eda\\eda_nlp-master\\eda_nlp-master\\code\\augmented_stars_2_aug.txt\" --num_aug=16 --alpha_sr=0.05 --alpha_rd=0.1 --alpha_ri=0.0 --alpha_rs=0.0\n",
        "\n",
        "import nltk; nltk.download('wordnet')\n",
        "!python /content/drive/MyDrive/COMP4332/COMP4332/Project1/eda_nlp-master/code/augment.py --input /content/drive/MyDrive/COMP4332/COMP4332/Project1/data/augmented_stars_2.txt --output=/content/drive/MyDrive/COMP4332/COMP4332/Project1/data/sst2_augmented.txt --num_aug=4 --alpha_sr=0.05 --alpha_rd=0.1 --alpha_ri=0.0 --alpha_rs=0.0"
      ],
      "metadata": {
        "colab": {
          "base_uri": "https://localhost:8080/"
        },
        "id": "fVcVMk22-KMK",
        "outputId": "dd8b979b-43b1-4e3f-e8ef-6b4da3a5d514"
      },
      "execution_count": null,
      "outputs": [
        {
          "output_type": "stream",
          "name": "stdout",
          "text": [
            "generated augmented sentences with eda for /content/drive/MyDrive/COMP4332/COMP4332/Project1/data/augmented_stars_2.txt to /content/drive/MyDrive/COMP4332/COMP4332/Project1/data/sst2_augmented.txt with num_aug=4\n"
          ]
        }
      ]
    },
    {
      "cell_type": "markdown",
      "source": [
        "### augmented data: txt --> csv in original form"
      ],
      "metadata": {
        "id": "nzGiTrOwTHEA"
      }
    },
    {
      "cell_type": "code",
      "source": [
        "import csv\n",
        "\n",
        "with open('/content/drive/MyDrive/COMP4332/COMP4332/Project1/data/sst2_augmented.txt', 'r') as in_file:\n",
        "    stripped = (line.strip() for line in in_file)\n",
        "    lines = (line.split(\"\\t\") for line in stripped if line)\n",
        "    with open('/content/drive/MyDrive/COMP4332/COMP4332/Project1/data/stars_2_augmented.csv', 'w') as out_file:\n",
        "        writer = csv.writer(out_file)\n",
        "        writer.writerow(('stars', 'text'))\n",
        "        writer.writerows(lines)"
      ],
      "metadata": {
        "id": "31hhgYViTGCX"
      },
      "execution_count": null,
      "outputs": []
    },
    {
      "cell_type": "code",
      "source": [
        "aug_df = load_data('stars_2_augmented', columns=['text','stars'],folder = path_to_data)"
      ],
      "metadata": {
        "colab": {
          "base_uri": "https://localhost:8080/"
        },
        "id": "S_KQPabBUnJn",
        "outputId": "a266a379-1431-4a9f-aa77-853647834101"
      },
      "execution_count": null,
      "outputs": [
        {
          "output_type": "stream",
          "name": "stdout",
          "text": [
            "select [text, stars] columns from the stars_2_augmented split\n",
            "Success\n"
          ]
        }
      ]
    },
    {
      "cell_type": "code",
      "source": [
        "aug_df"
      ],
      "metadata": {
        "colab": {
          "base_uri": "https://localhost:8080/",
          "height": 423
        },
        "id": "uF4PAzmoXmnw",
        "outputId": "72b514d5-6d65-4dd3-90b2-6cb57b8bd4a2"
      },
      "execution_count": null,
      "outputs": [
        {
          "output_type": "execute_result",
          "data": {
            "text/plain": [
              "                                                   text  stars\n",
              "0     location is nice but it is the typical blah hi...      2\n",
              "1     location is nice but it is the typical blah hi...      2\n",
              "2     location is nice but it is the typical blah hi...      2\n",
              "3     location is nice but it is the typical blah hi...      2\n",
              "4     location is nice but it is the typical blah hi...      2\n",
              "...                                                 ...    ...\n",
              "7125  went there again last night for the burger sup...      2\n",
              "7126  went there again last night for the burger to ...      2\n",
              "7127  went again last night for the burger supposed ...      2\n",
              "7128  went there again last night for the burger sup...      2\n",
              "7129  went there again last night for the burger sup...      2\n",
              "\n",
              "[7130 rows x 2 columns]"
            ],
            "text/html": [
              "\n",
              "  <div id=\"df-197e1351-5f7c-4bc0-8679-e6afe43e038f\">\n",
              "    <div class=\"colab-df-container\">\n",
              "      <div>\n",
              "<style scoped>\n",
              "    .dataframe tbody tr th:only-of-type {\n",
              "        vertical-align: middle;\n",
              "    }\n",
              "\n",
              "    .dataframe tbody tr th {\n",
              "        vertical-align: top;\n",
              "    }\n",
              "\n",
              "    .dataframe thead th {\n",
              "        text-align: right;\n",
              "    }\n",
              "</style>\n",
              "<table border=\"1\" class=\"dataframe\">\n",
              "  <thead>\n",
              "    <tr style=\"text-align: right;\">\n",
              "      <th></th>\n",
              "      <th>text</th>\n",
              "      <th>stars</th>\n",
              "    </tr>\n",
              "  </thead>\n",
              "  <tbody>\n",
              "    <tr>\n",
              "      <th>0</th>\n",
              "      <td>location is nice but it is the typical blah hi...</td>\n",
              "      <td>2</td>\n",
              "    </tr>\n",
              "    <tr>\n",
              "      <th>1</th>\n",
              "      <td>location is nice but it is the typical blah hi...</td>\n",
              "      <td>2</td>\n",
              "    </tr>\n",
              "    <tr>\n",
              "      <th>2</th>\n",
              "      <td>location is nice but it is the typical blah hi...</td>\n",
              "      <td>2</td>\n",
              "    </tr>\n",
              "    <tr>\n",
              "      <th>3</th>\n",
              "      <td>location is nice but it is the typical blah hi...</td>\n",
              "      <td>2</td>\n",
              "    </tr>\n",
              "    <tr>\n",
              "      <th>4</th>\n",
              "      <td>location is nice but it is the typical blah hi...</td>\n",
              "      <td>2</td>\n",
              "    </tr>\n",
              "    <tr>\n",
              "      <th>...</th>\n",
              "      <td>...</td>\n",
              "      <td>...</td>\n",
              "    </tr>\n",
              "    <tr>\n",
              "      <th>7125</th>\n",
              "      <td>went there again last night for the burger sup...</td>\n",
              "      <td>2</td>\n",
              "    </tr>\n",
              "    <tr>\n",
              "      <th>7126</th>\n",
              "      <td>went there again last night for the burger to ...</td>\n",
              "      <td>2</td>\n",
              "    </tr>\n",
              "    <tr>\n",
              "      <th>7127</th>\n",
              "      <td>went again last night for the burger supposed ...</td>\n",
              "      <td>2</td>\n",
              "    </tr>\n",
              "    <tr>\n",
              "      <th>7128</th>\n",
              "      <td>went there again last night for the burger sup...</td>\n",
              "      <td>2</td>\n",
              "    </tr>\n",
              "    <tr>\n",
              "      <th>7129</th>\n",
              "      <td>went there again last night for the burger sup...</td>\n",
              "      <td>2</td>\n",
              "    </tr>\n",
              "  </tbody>\n",
              "</table>\n",
              "<p>7130 rows × 2 columns</p>\n",
              "</div>\n",
              "      <button class=\"colab-df-convert\" onclick=\"convertToInteractive('df-197e1351-5f7c-4bc0-8679-e6afe43e038f')\"\n",
              "              title=\"Convert this dataframe to an interactive table.\"\n",
              "              style=\"display:none;\">\n",
              "        \n",
              "  <svg xmlns=\"http://www.w3.org/2000/svg\" height=\"24px\"viewBox=\"0 0 24 24\"\n",
              "       width=\"24px\">\n",
              "    <path d=\"M0 0h24v24H0V0z\" fill=\"none\"/>\n",
              "    <path d=\"M18.56 5.44l.94 2.06.94-2.06 2.06-.94-2.06-.94-.94-2.06-.94 2.06-2.06.94zm-11 1L8.5 8.5l.94-2.06 2.06-.94-2.06-.94L8.5 2.5l-.94 2.06-2.06.94zm10 10l.94 2.06.94-2.06 2.06-.94-2.06-.94-.94-2.06-.94 2.06-2.06.94z\"/><path d=\"M17.41 7.96l-1.37-1.37c-.4-.4-.92-.59-1.43-.59-.52 0-1.04.2-1.43.59L10.3 9.45l-7.72 7.72c-.78.78-.78 2.05 0 2.83L4 21.41c.39.39.9.59 1.41.59.51 0 1.02-.2 1.41-.59l7.78-7.78 2.81-2.81c.8-.78.8-2.07 0-2.86zM5.41 20L4 18.59l7.72-7.72 1.47 1.35L5.41 20z\"/>\n",
              "  </svg>\n",
              "      </button>\n",
              "      \n",
              "  <style>\n",
              "    .colab-df-container {\n",
              "      display:flex;\n",
              "      flex-wrap:wrap;\n",
              "      gap: 12px;\n",
              "    }\n",
              "\n",
              "    .colab-df-convert {\n",
              "      background-color: #E8F0FE;\n",
              "      border: none;\n",
              "      border-radius: 50%;\n",
              "      cursor: pointer;\n",
              "      display: none;\n",
              "      fill: #1967D2;\n",
              "      height: 32px;\n",
              "      padding: 0 0 0 0;\n",
              "      width: 32px;\n",
              "    }\n",
              "\n",
              "    .colab-df-convert:hover {\n",
              "      background-color: #E2EBFA;\n",
              "      box-shadow: 0px 1px 2px rgba(60, 64, 67, 0.3), 0px 1px 3px 1px rgba(60, 64, 67, 0.15);\n",
              "      fill: #174EA6;\n",
              "    }\n",
              "\n",
              "    [theme=dark] .colab-df-convert {\n",
              "      background-color: #3B4455;\n",
              "      fill: #D2E3FC;\n",
              "    }\n",
              "\n",
              "    [theme=dark] .colab-df-convert:hover {\n",
              "      background-color: #434B5C;\n",
              "      box-shadow: 0px 1px 3px 1px rgba(0, 0, 0, 0.15);\n",
              "      filter: drop-shadow(0px 1px 2px rgba(0, 0, 0, 0.3));\n",
              "      fill: #FFFFFF;\n",
              "    }\n",
              "  </style>\n",
              "\n",
              "      <script>\n",
              "        const buttonEl =\n",
              "          document.querySelector('#df-197e1351-5f7c-4bc0-8679-e6afe43e038f button.colab-df-convert');\n",
              "        buttonEl.style.display =\n",
              "          google.colab.kernel.accessAllowed ? 'block' : 'none';\n",
              "\n",
              "        async function convertToInteractive(key) {\n",
              "          const element = document.querySelector('#df-197e1351-5f7c-4bc0-8679-e6afe43e038f');\n",
              "          const dataTable =\n",
              "            await google.colab.kernel.invokeFunction('convertToInteractive',\n",
              "                                                     [key], {});\n",
              "          if (!dataTable) return;\n",
              "\n",
              "          const docLinkHtml = 'Like what you see? Visit the ' +\n",
              "            '<a target=\"_blank\" href=https://colab.research.google.com/notebooks/data_table.ipynb>data table notebook</a>'\n",
              "            + ' to learn more about interactive tables.';\n",
              "          element.innerHTML = '';\n",
              "          dataTable['output_type'] = 'display_data';\n",
              "          await google.colab.output.renderOutput(dataTable, element);\n",
              "          const docLink = document.createElement('div');\n",
              "          docLink.innerHTML = docLinkHtml;\n",
              "          element.appendChild(docLink);\n",
              "        }\n",
              "      </script>\n",
              "    </div>\n",
              "  </div>\n",
              "  "
            ]
          },
          "metadata": {},
          "execution_count": 115
        }
      ]
    },
    {
      "cell_type": "code",
      "source": [
        "# Rearrange\n",
        "from sklearn.utils import shuffle\n",
        "train_aug_df = pd.concat([train_df[['stars','text']],aug_df[['stars','text']]],axis=0,ignore_index=True)\n",
        "train_aug_df = shuffle(train_aug_df).reset_index(drop=True)"
      ],
      "metadata": {
        "id": "va7gEzGgcyYM"
      },
      "execution_count": null,
      "outputs": []
    },
    {
      "cell_type": "code",
      "source": [
        "# input series\n",
        "x_train_aug = train_aug_df['text']\n",
        "y_train_aug = train_aug_df['stars']\n",
        "x_valid = valid_df['text']\n",
        "y_valid = valid_df['stars']\n",
        "\n",
        "# input dataframe\n",
        "x_train_aug_df = train_aug_df[['text']]\n",
        "y_train_aug_df = train_aug_df[['stars']]\n",
        "x_valid_df = valid_df[['text']]\n",
        "y_valid_df = valid_df[['stars']]"
      ],
      "metadata": {
        "id": "MClzZWXvW5cK"
      },
      "execution_count": null,
      "outputs": []
    }
  ]
}